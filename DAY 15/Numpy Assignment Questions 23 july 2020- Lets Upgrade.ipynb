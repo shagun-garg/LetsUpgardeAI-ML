{
 "cells": [
  {
   "cell_type": "markdown",
   "metadata": {},
   "source": [
    "# 1. Create a 3x3x3 array with random values "
   ]
  },
  {
   "cell_type": "code",
   "execution_count": 56,
   "metadata": {},
   "outputs": [
    {
     "data": {
      "text/plain": [
       "array([[[62, 23, 83, 20, 78],\n",
       "        [47, 60, 61, 23,  9],\n",
       "        [93, 82,  7, 46, 77],\n",
       "        [94, 22, 63, 57, 93],\n",
       "        [70, 14, 21, 93, 98]],\n",
       "\n",
       "       [[88, 30, 77, 60, 33],\n",
       "        [37, 50, 60, 18, 44],\n",
       "        [11, 88, 67, 16,  0],\n",
       "        [45, 36, 22, 73, 86],\n",
       "        [33, 20, 76, 91, 24]],\n",
       "\n",
       "       [[96, 18, 84, 81, 36],\n",
       "        [46, 37, 47, 78, 37],\n",
       "        [ 3, 28, 32, 69, 55],\n",
       "        [ 5, 95, 14, 37, 51],\n",
       "        [ 6, 63, 11,  9, 95]],\n",
       "\n",
       "       [[13, 97, 83, 78, 34],\n",
       "        [73, 60, 76, 43, 16],\n",
       "        [29, 45, 68, 26, 87],\n",
       "        [ 6, 96, 91,  1, 48],\n",
       "        [50, 46, 90, 28, 93]],\n",
       "\n",
       "       [[13, 40,  6, 48, 57],\n",
       "        [45, 59, 74, 53, 73],\n",
       "        [61, 24, 26, 82, 89],\n",
       "        [96, 13, 45, 81, 71],\n",
       "        [20, 79, 45, 26,  6]]])"
      ]
     },
     "execution_count": 56,
     "metadata": {},
     "output_type": "execute_result"
    }
   ],
   "source": [
    "import numpy as np\n",
    "from numpy import random \n",
    "a=np.random.randint(100,size=(5,5,5))\n",
    "a"
   ]
  },
  {
   "cell_type": "markdown",
   "metadata": {},
   "source": [
    "# 2.Create a 5x5 matrix with values 1,2,3,4 just below the diagonal"
   ]
  },
  {
   "cell_type": "code",
   "execution_count": 14,
   "metadata": {},
   "outputs": [
    {
     "data": {
      "text/plain": [
       "array([[0, 0, 0, 0, 0],\n",
       "       [1, 0, 0, 0, 0],\n",
       "       [0, 2, 0, 0, 0],\n",
       "       [0, 0, 3, 0, 0],\n",
       "       [0, 0, 0, 4, 0]])"
      ]
     },
     "execution_count": 14,
     "metadata": {},
     "output_type": "execute_result"
    }
   ],
   "source": [
    "a=np.diag(([1,2,3,4]),-1)\n",
    "a"
   ]
  },
  {
   "cell_type": "markdown",
   "metadata": {},
   "source": [
    "# 3.Create a 8x8 matrix and fill it with a checkerboard pattern"
   ]
  },
  {
   "cell_type": "code",
   "execution_count": 20,
   "metadata": {},
   "outputs": [
    {
     "data": {
      "text/plain": [
       "array([[0, 1, 0, 1, 0, 1, 0, 1],\n",
       "       [1, 0, 1, 0, 1, 0, 1, 0],\n",
       "       [0, 1, 0, 1, 0, 1, 0, 1],\n",
       "       [1, 0, 1, 0, 1, 0, 1, 0],\n",
       "       [0, 1, 0, 1, 0, 1, 0, 1],\n",
       "       [1, 0, 1, 0, 1, 0, 1, 0],\n",
       "       [0, 1, 0, 1, 0, 1, 0, 1],\n",
       "       [1, 0, 1, 0, 1, 0, 1, 0]])"
      ]
     },
     "execution_count": 20,
     "metadata": {},
     "output_type": "execute_result"
    }
   ],
   "source": [
    "x = np.zeros((8, 8), dtype = int)\n",
    "x[1::2, ::2] = 1\n",
    "x[::2, 1::2] = 1\n",
    "x"
   ]
  },
  {
   "cell_type": "markdown",
   "metadata": {},
   "source": [
    "# 4. Normalize a 5x5 random matrix"
   ]
  },
  {
   "cell_type": "code",
   "execution_count": 58,
   "metadata": {},
   "outputs": [
    {
     "name": "stdout",
     "output_type": "stream",
     "text": [
      "Before normalize\n",
      "[[ 6 32 81 12 47]\n",
      " [ 0 14 19 49 67]\n",
      " [54 46 90 25 57]\n",
      " [91 46 41 54 38]\n",
      " [62 54 24 61 73]]\n",
      "\n",
      "After Normalize\n",
      "[[0.06593407 0.35164835 0.89010989 0.13186813 0.51648352]\n",
      " [0.         0.15384615 0.20879121 0.53846154 0.73626374]\n",
      " [0.59340659 0.50549451 0.98901099 0.27472527 0.62637363]\n",
      " [1.         0.50549451 0.45054945 0.59340659 0.41758242]\n",
      " [0.68131868 0.59340659 0.26373626 0.67032967 0.8021978 ]]\n"
     ]
    }
   ],
   "source": [
    "a=np.random.randint(100,size=(5,5))\n",
    "print('Before normalize')\n",
    "print(a)\n",
    "print()\n",
    "xmin,xmax=a.min(),a.max()\n",
    "a=(a-xmin)/(xmax-xmin)\n",
    "print('After Normalize')\n",
    "print(a)"
   ]
  },
  {
   "cell_type": "markdown",
   "metadata": {},
   "source": [
    "# 5.  How to find common values between two arrays?"
   ]
  },
  {
   "cell_type": "code",
   "execution_count": 41,
   "metadata": {},
   "outputs": [
    {
     "name": "stdout",
     "output_type": "stream",
     "text": [
      "[1 2 5 6]\n"
     ]
    }
   ],
   "source": [
    "a=[1,2,3,4,5,6,7,8,9,10]\n",
    "b=[1,2,34,5,6]\n",
    "print(np.intersect1d(a,b))"
   ]
  },
  {
   "cell_type": "markdown",
   "metadata": {},
   "source": [
    "# 6.How to get the dates of yesterday, today and tomorrow?"
   ]
  },
  {
   "cell_type": "code",
   "execution_count": 42,
   "metadata": {},
   "outputs": [
    {
     "name": "stdout",
     "output_type": "stream",
     "text": [
      "Yesterday =  25-07-2020\n",
      "Today =  26-07-2020\n",
      "Tomorrow =  27-07-2020\n"
     ]
    }
   ],
   "source": [
    "from datetime import datetime, timedelta\n",
    "presentday = datetime.now() # or presentday = datetime.today() \n",
    "yesterday = presentday - timedelta(1) \n",
    "tomorrow = presentday + timedelta(1) \n",
    "print(\"Yesterday = \", yesterday.strftime('%d-%m-%Y')) \n",
    "print(\"Today = \", presentday.strftime('%d-%m-%Y')) \n",
    "print(\"Tomorrow = \", tomorrow.strftime('%d-%m-%Y')) "
   ]
  },
  {
   "cell_type": "markdown",
   "metadata": {},
   "source": [
    "# 7. Consider two random array A and B, check if they are equal"
   ]
  },
  {
   "cell_type": "code",
   "execution_count": 59,
   "metadata": {},
   "outputs": [
    {
     "name": "stdout",
     "output_type": "stream",
     "text": [
      " not equal\n"
     ]
    }
   ],
   "source": [
    "a=np.random.randint(100,size=(5,5))\n",
    "\n",
    "a.sort()\n",
    "b.sort()\n",
    "if a.any()==b.any() is False:\n",
    "    print('equal')\n",
    "else:\n",
    "    print(' not equal')"
   ]
  },
  {
   "cell_type": "markdown",
   "metadata": {},
   "source": [
    "# 8.Create random vector of size 10 and replace the maximum value by 0 "
   ]
  },
  {
   "cell_type": "code",
   "execution_count": 65,
   "metadata": {},
   "outputs": [
    {
     "name": "stdout",
     "output_type": "stream",
     "text": [
      "[49 38 45 54 45 83 79 40 53 28]\n",
      "\n",
      "83\n",
      "\n",
      "[49 38 45 54 45  0 79 40 53 28]\n"
     ]
    }
   ],
   "source": [
    "a=np.random.randint(100,size=(10))\n",
    "print(a)\n",
    "xmax=a.max()\n",
    "print()\n",
    "print(xmax)\n",
    "print()\n",
    "for i in range(10):\n",
    "    if a[i]==xmax :\n",
    "        a[i]=0\n",
    "print(a)"
   ]
  },
  {
   "cell_type": "markdown",
   "metadata": {},
   "source": [
    "# 9. How to print all the values of an array?"
   ]
  },
  {
   "cell_type": "code",
   "execution_count": 67,
   "metadata": {},
   "outputs": [
    {
     "name": "stdout",
     "output_type": "stream",
     "text": [
      "[[31 39 89 84 34]\n",
      " [58 66 90  2 66]\n",
      " [80 45 42 73 86]\n",
      " [ 3 80 54 80 73]\n",
      " [ 8 93  5 65 61]]\n"
     ]
    }
   ],
   "source": [
    "a=np.random.randint(100,size=(5,5))\n",
    "\n",
    "print(a)"
   ]
  },
  {
   "cell_type": "markdown",
   "metadata": {},
   "source": [
    "# 10.Subtract the mean of each row of a matrix"
   ]
  },
  {
   "cell_type": "code",
   "execution_count": 79,
   "metadata": {},
   "outputs": [
    {
     "name": "stdout",
     "output_type": "stream",
     "text": [
      "[[79 68  4 10]\n",
      " [34 89 77 78]\n",
      " [16 61 47 67]\n",
      " [70 33 23  9]]\n"
     ]
    },
    {
     "data": {
      "text/plain": [
       "array([40.25, 69.5 , 47.75, 33.75])"
      ]
     },
     "execution_count": 79,
     "metadata": {},
     "output_type": "execute_result"
    }
   ],
   "source": [
    "a=np.random.randint(100,size=(4,4))\n",
    "print(a)\n",
    "z=np.mean(a,axis=1)\n",
    "z"
   ]
  },
  {
   "cell_type": "markdown",
   "metadata": {},
   "source": [
    "# 11.Consider a given vector, how to add 1 to each element indexed by a second vector (be careful with repeated indices)? "
   ]
  },
  {
   "cell_type": "code",
   "execution_count": 83,
   "metadata": {},
   "outputs": [
    {
     "name": "stdout",
     "output_type": "stream",
     "text": [
      "[16  5 10 12  4 10  5 17 10  4]\n",
      "\n",
      "[2 3 5 7 8]\n",
      "[16  5 11 13  4 11  5 18 11  4]\n"
     ]
    }
   ],
   "source": [
    "a=np.random.randint(20,size=(10))\n",
    "print(a)\n",
    "print()\n",
    "b=np.array([2,5,7,5,3,8])\n",
    "bb=np.unique(b)\n",
    "print(bb)\n",
    "for i in bb:\n",
    "    a[i]=a[i]+1\n",
    "print(a)"
   ]
  },
  {
   "cell_type": "markdown",
   "metadata": {},
   "source": [
    "# 12.How to get the diagonal of a dot product?"
   ]
  },
  {
   "cell_type": "code",
   "execution_count": 89,
   "metadata": {},
   "outputs": [
    {
     "name": "stdout",
     "output_type": "stream",
     "text": [
      "[[10 13]\n",
      " [24 31]]\n",
      "\n",
      "[10 31]\n"
     ]
    }
   ],
   "source": [
    "a=([[1,2],[3,4]])\n",
    "b=([[4,5],[3,4]])\n",
    "ans=np.dot(a,b)\n",
    "print(ans)\n",
    "print()\n",
    "print(np.diag(ans))"
   ]
  },
  {
   "cell_type": "markdown",
   "metadata": {},
   "source": [
    "# 13.How to find the most frequent value in an array?"
   ]
  },
  {
   "cell_type": "code",
   "execution_count": 104,
   "metadata": {},
   "outputs": [
    {
     "name": "stdout",
     "output_type": "stream",
     "text": [
      "Mode is  ModeResult(mode=array([[5, 5, 6, 7]]), count=array([[2, 2, 2, 2]]))\n"
     ]
    }
   ],
   "source": [
    "from scipy import stats\n",
    "a = np.array([[1, 2, 3, 4],\n",
    "[5, 5, 6, 5],\n",
    "[7, 8, 9, 7],\n",
    "[5,5,6,7]])\n",
    "\n",
    "mode = stats.mode(a,axis=0)\n",
    "\n",
    "print('Mode is ', mode)"
   ]
  },
  {
   "cell_type": "markdown",
   "metadata": {},
   "source": [
    "# 14.How to get the n largest values of an array"
   ]
  },
  {
   "cell_type": "code",
   "execution_count": 114,
   "metadata": {},
   "outputs": [
    {
     "name": "stdout",
     "output_type": "stream",
     "text": [
      "Original array:\n",
      "[[0 1]\n",
      " [2 3]\n",
      " [4 5]\n",
      " [6 7]\n",
      " [8 9]]\n",
      "heloo [[4 5]\n",
      " [6 7]\n",
      " [8 9]]\n"
     ]
    }
   ],
   "source": [
    "x = np.arange(10)\n",
    "x=x.reshape(5,2)\n",
    "print(\"Original array:\")\n",
    "print(x)\n",
    "n = 3\n",
    "x.sort()\n",
    "print (\"heloo\",x[-n:])"
   ]
  },
  {
   "cell_type": "markdown",
   "metadata": {},
   "source": [
    "# 15.How to create a record array from a regular array?"
   ]
  },
  {
   "cell_type": "code",
   "execution_count": 115,
   "metadata": {},
   "outputs": [
    {
     "data": {
      "text/plain": [
       "rec.array([(1, 'Red', 12.2), (2, 'Green', 15. ), (3, 'White', 20. ),\n",
       "           (4, 'Orange', 40. )],\n",
       "          dtype=[('f0', '<i4'), ('f1', '<U6'), ('f2', '<f8')])"
      ]
     },
     "execution_count": 115,
     "metadata": {},
     "output_type": "execute_result"
    }
   ],
   "source": [
    "a1=np.array([1,2,3,4])\n",
    "a2=np.array(['Red','Green','White','Orange'])\n",
    "a3=np.array([12.20,15,20,40])\n",
    "result= np.core.records.fromarrays([a1, a2, a3])\n",
    "result"
   ]
  }
 ],
 "metadata": {
  "kernelspec": {
   "display_name": "Python 3",
   "language": "python",
   "name": "python3"
  },
  "language_info": {
   "codemirror_mode": {
    "name": "ipython",
    "version": 3
   },
   "file_extension": ".py",
   "mimetype": "text/x-python",
   "name": "python",
   "nbconvert_exporter": "python",
   "pygments_lexer": "ipython3",
   "version": "3.8.0"
  },
  "latex_envs": {
   "LaTeX_envs_menu_present": true,
   "autoclose": false,
   "autocomplete": true,
   "bibliofile": "biblio.bib",
   "cite_by": "apalike",
   "current_citInitial": 1,
   "eqLabelWithNumbers": true,
   "eqNumInitial": 1,
   "hotkeys": {
    "equation": "Ctrl-E",
    "itemize": "Ctrl-I"
   },
   "labels_anchors": false,
   "latex_user_defs": false,
   "report_style_numbering": false,
   "user_envs_cfg": false
  }
 },
 "nbformat": 4,
 "nbformat_minor": 2
}
